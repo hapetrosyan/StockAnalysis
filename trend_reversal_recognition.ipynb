{
 "metadata": {
  "language_info": {
   "codemirror_mode": {
    "name": "ipython",
    "version": 3
   },
   "file_extension": ".py",
   "mimetype": "text/x-python",
   "name": "python",
   "nbconvert_exporter": "python",
   "pygments_lexer": "ipython3",
   "version": "3.8.3-final"
  },
  "orig_nbformat": 2,
  "kernelspec": {
   "name": "python38332bit8b07637a70ff4edea6aa6bcbd1fc18e9",
   "display_name": "Python 3.8.3 32-bit"
  }
 },
 "nbformat": 4,
 "nbformat_minor": 2,
 "cells": [
  {
   "cell_type": "code",
   "execution_count": 42,
   "metadata": {},
   "outputs": [],
   "source": [
    "import yfinance as yf\n",
    "import pandas as pd\n",
    "import matplotlib.pyplot as plt\n",
    "import numpy as np"
   ]
  },
  {
   "cell_type": "code",
   "execution_count": 75,
   "metadata": {},
   "outputs": [],
   "source": [
    "def get_pivots(df, cols=['O','H','L', 'C']):\n",
    "\n",
    "  df['swings'] = np.nan\n",
    "  df.loc[df.index[0], 'swings'] = df.loc[df.index[0], cols[0]]\n",
    "  df.loc[df.index[-1], 'swings'] = df.loc[df.index[-1], cols[0]]\n",
    "\n",
    "  pivot = df.loc[df.index[0], cols[0]]\n",
    "  df.loc[df.index[0], ]\n",
    "  last_pivot_id = 0\n",
    "  up_down = 0\n",
    "\n",
    "  diff = .3\n",
    "\n",
    "  for i, row in df.iterrows():\n",
    "\n",
    "      # We don't have a trend yet\n",
    "      if up_down == 0:\n",
    "          if row[cols[2]] < pivot - diff:\n",
    "              df.loc[i, 'swings'] = row[cols[2]] - pivot\n",
    "              pivot, last_pivot_id = row[cols[2]], i\n",
    "              up_down = -1\n",
    "          elif row[cols[1]] > pivot + diff:\n",
    "              df.loc[i, 'swings'] = row[cols[1]] - pivot\n",
    "              pivot, last_pivot_id = row[cols[1]], i\n",
    "              up_down = 1\n",
    "\n",
    "      # Current trend is up\n",
    "      elif up_down == 1:\n",
    "          # If got higher than last pivot, update the swing\n",
    "          if row[cols[1]] > pivot:\n",
    "              # Remove the last pivot, as it wasn't a real one\n",
    "              df.loc[i, 'swings'] = df.loc[i, 'swings']\n",
    "              df.loc[last_pivot_id, 'swings'] = np.nan\n",
    "              pivot, last_pivot_id = row[cols[1]], i\n",
    "          elif row[cols[2]] < pivot - diff:\n",
    "              df.loc[i, 'swings'] = row[cols[2]] - pivot\n",
    "              pivot, last_pivot_id = row[cols[2]], i\n",
    "              # Change the trend indicator\n",
    "              up_down = -1"
   ]
  },
  {
   "cell_type": "code",
   "execution_count": 35,
   "metadata": {},
   "outputs": [],
   "source": [
    "# ba_1y = yf.Ticker('BA').history(period='1y')"
   ]
  },
  {
   "cell_type": "code",
   "execution_count": 2,
   "metadata": {},
   "outputs": [],
   "source": [
    "ba_1y = pd.read_csv('DataFiles/ba_1y.csv', index_col='Date')"
   ]
  },
  {
   "cell_type": "code",
   "execution_count": 18,
   "metadata": {},
   "outputs": [],
   "source": [
    "t = ba_1y.loc['2020-02-04':'2020-02-20', ['Close']]"
   ]
  },
  {
   "cell_type": "code",
   "execution_count": 30,
   "metadata": {},
   "outputs": [],
   "source": [
    "t['dp1'] = t['Close'].shift(-1)\n",
    "t['dm1'] = t['Close'].shift(1)"
   ]
  },
  {
   "cell_type": "code",
   "execution_count": 62,
   "metadata": {},
   "outputs": [],
   "source": [
    "df.columns = cols"
   ]
  },
  {
   "cell_type": "code",
   "execution_count": 63,
   "metadata": {},
   "outputs": [],
   "source": [
    "df['swings'] = np.nan"
   ]
  },
  {
   "cell_type": "code",
   "execution_count": 67,
   "metadata": {},
   "outputs": [],
   "source": [
    "df.loc[df.index[0], 'swings'] = df.loc[df.index[0], cols[0]]\n",
    "df.loc[df.index[-1], 'swings'] = df.loc[df.index[-1], cols[0]]"
   ]
  },
  {
   "cell_type": "code",
   "execution_count": 73,
   "metadata": {},
   "outputs": [],
   "source": [
    "pivot = df.loc[df.index[0], cols[0]]\n",
    "df.loc[df.index[0], ]\n",
    "last_pivot_id = 0\n",
    "up_down = 0"
   ]
  },
  {
   "cell_type": "code",
   "execution_count": 74,
   "metadata": {},
   "outputs": [
    {
     "output_type": "execute_result",
     "data": {
      "text/plain": "O         361.05\nH         361.89\nL         353.34\nC         354.68\nswings    361.05\nName: 2019-07-18, dtype: float64"
     },
     "metadata": {},
     "execution_count": 74
    }
   ],
   "source": [
    "df.loc[df.index[0], ]"
   ]
  },
  {
   "cell_type": "code",
   "execution_count": null,
   "metadata": {},
   "outputs": [],
   "source": []
  }
 ]
}