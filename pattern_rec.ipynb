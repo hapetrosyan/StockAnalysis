{
 "metadata": {
  "language_info": {
   "codemirror_mode": {
    "name": "ipython",
    "version": 3
   },
   "file_extension": ".py",
   "mimetype": "text/x-python",
   "name": "python",
   "nbconvert_exporter": "python",
   "pygments_lexer": "ipython3",
   "version": "3.8.3-final"
  },
  "orig_nbformat": 2,
  "kernelspec": {
   "name": "python38332bit8b07637a70ff4edea6aa6bcbd1fc18e9",
   "display_name": "Python 3.8.3 32-bit"
  }
 },
 "nbformat": 4,
 "nbformat_minor": 2,
 "cells": [
  {
   "cell_type": "code",
   "execution_count": 4,
   "metadata": {},
   "outputs": [],
   "source": [
    "import yfinance as yf"
   ]
  },
  {
   "cell_type": "code",
   "execution_count": 5,
   "metadata": {},
   "outputs": [],
   "source": [
    "fb = yf.Ticker('FB')"
   ]
  },
  {
   "cell_type": "code",
   "execution_count": 7,
   "metadata": {},
   "outputs": [
    {
     "output_type": "execute_result",
     "data": {
      "text/plain": "              Open    High     Low   Close    Volume  Dividends  Stock Splits\nDate                                                                         \n2019-07-18  200.15  202.47  199.38  200.78  11956600          0             0\n2019-07-19  202.18  202.33  198.07  198.36  12098300          0             0\n2019-07-22  199.91  202.57  198.81  202.32  13589000          0             0\n2019-07-23  202.84  204.24  200.96  202.36  14583700          0             0\n2019-07-24  197.63  204.81  197.22  204.66  32532500          0             0\n...            ...     ...     ...     ...       ...        ...           ...\n2020-07-13  247.01  250.15  238.42  239.00  24674900          0             0\n2020-07-14  236.76  240.33  232.03  239.73  23378100          0             0\n2020-07-15  241.55  244.82  238.05  240.28  19133600          0             0\n2020-07-16  238.00  241.76  236.33  240.93  18880700          0             0\n2020-07-17  241.00  244.16  237.86  242.03  18144100          0             0\n\n[253 rows x 7 columns]",
      "text/html": "<div>\n<style scoped>\n    .dataframe tbody tr th:only-of-type {\n        vertical-align: middle;\n    }\n\n    .dataframe tbody tr th {\n        vertical-align: top;\n    }\n\n    .dataframe thead th {\n        text-align: right;\n    }\n</style>\n<table border=\"1\" class=\"dataframe\">\n  <thead>\n    <tr style=\"text-align: right;\">\n      <th></th>\n      <th>Open</th>\n      <th>High</th>\n      <th>Low</th>\n      <th>Close</th>\n      <th>Volume</th>\n      <th>Dividends</th>\n      <th>Stock Splits</th>\n    </tr>\n    <tr>\n      <th>Date</th>\n      <th></th>\n      <th></th>\n      <th></th>\n      <th></th>\n      <th></th>\n      <th></th>\n      <th></th>\n    </tr>\n  </thead>\n  <tbody>\n    <tr>\n      <th>2019-07-18</th>\n      <td>200.15</td>\n      <td>202.47</td>\n      <td>199.38</td>\n      <td>200.78</td>\n      <td>11956600</td>\n      <td>0</td>\n      <td>0</td>\n    </tr>\n    <tr>\n      <th>2019-07-19</th>\n      <td>202.18</td>\n      <td>202.33</td>\n      <td>198.07</td>\n      <td>198.36</td>\n      <td>12098300</td>\n      <td>0</td>\n      <td>0</td>\n    </tr>\n    <tr>\n      <th>2019-07-22</th>\n      <td>199.91</td>\n      <td>202.57</td>\n      <td>198.81</td>\n      <td>202.32</td>\n      <td>13589000</td>\n      <td>0</td>\n      <td>0</td>\n    </tr>\n    <tr>\n      <th>2019-07-23</th>\n      <td>202.84</td>\n      <td>204.24</td>\n      <td>200.96</td>\n      <td>202.36</td>\n      <td>14583700</td>\n      <td>0</td>\n      <td>0</td>\n    </tr>\n    <tr>\n      <th>2019-07-24</th>\n      <td>197.63</td>\n      <td>204.81</td>\n      <td>197.22</td>\n      <td>204.66</td>\n      <td>32532500</td>\n      <td>0</td>\n      <td>0</td>\n    </tr>\n    <tr>\n      <th>...</th>\n      <td>...</td>\n      <td>...</td>\n      <td>...</td>\n      <td>...</td>\n      <td>...</td>\n      <td>...</td>\n      <td>...</td>\n    </tr>\n    <tr>\n      <th>2020-07-13</th>\n      <td>247.01</td>\n      <td>250.15</td>\n      <td>238.42</td>\n      <td>239.00</td>\n      <td>24674900</td>\n      <td>0</td>\n      <td>0</td>\n    </tr>\n    <tr>\n      <th>2020-07-14</th>\n      <td>236.76</td>\n      <td>240.33</td>\n      <td>232.03</td>\n      <td>239.73</td>\n      <td>23378100</td>\n      <td>0</td>\n      <td>0</td>\n    </tr>\n    <tr>\n      <th>2020-07-15</th>\n      <td>241.55</td>\n      <td>244.82</td>\n      <td>238.05</td>\n      <td>240.28</td>\n      <td>19133600</td>\n      <td>0</td>\n      <td>0</td>\n    </tr>\n    <tr>\n      <th>2020-07-16</th>\n      <td>238.00</td>\n      <td>241.76</td>\n      <td>236.33</td>\n      <td>240.93</td>\n      <td>18880700</td>\n      <td>0</td>\n      <td>0</td>\n    </tr>\n    <tr>\n      <th>2020-07-17</th>\n      <td>241.00</td>\n      <td>244.16</td>\n      <td>237.86</td>\n      <td>242.03</td>\n      <td>18144100</td>\n      <td>0</td>\n      <td>0</td>\n    </tr>\n  </tbody>\n</table>\n<p>253 rows × 7 columns</p>\n</div>"
     },
     "metadata": {},
     "execution_count": 7
    }
   ],
   "source": [
    "fb.history(period='1y')"
   ]
  },
  {
   "cell_type": "code",
   "execution_count": null,
   "metadata": {},
   "outputs": [],
   "source": []
  }
 ]
}