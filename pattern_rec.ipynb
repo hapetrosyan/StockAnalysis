{
 "metadata": {
  "language_info": {
   "codemirror_mode": {
    "name": "ipython",
    "version": 3
   },
   "file_extension": ".py",
   "mimetype": "text/x-python",
   "name": "python",
   "nbconvert_exporter": "python",
   "pygments_lexer": "ipython3",
   "version": "3.8.3-final"
  },
  "orig_nbformat": 2,
  "kernelspec": {
   "name": "python38332bit8b07637a70ff4edea6aa6bcbd1fc18e9",
   "display_name": "Python 3.8.3 32-bit"
  }
 },
 "nbformat": 4,
 "nbformat_minor": 2,
 "cells": [
  {
   "cell_type": "code",
   "execution_count": 20,
   "metadata": {},
   "outputs": [],
   "source": [
    "import yfinance as yf\n",
    "import pandas as pd"
   ]
  },
  {
   "cell_type": "code",
   "execution_count": 35,
   "metadata": {},
   "outputs": [],
   "source": [
    "ba_1y = yf.Ticker('BA').history(period='1y')"
   ]
  },
  {
   "cell_type": "code",
   "execution_count": 58,
   "metadata": {},
   "outputs": [
    {
     "output_type": "execute_result",
     "data": {
      "text/plain": "              Open    High     Low   Close    Volume  Dividends  Stock Splits\nDate                                                                         \n2019-07-22  370.23  375.67  365.27  366.77   4265100        0.0             0\n2019-09-19  381.63  383.98  378.43  379.95   2928800        0.0             0\n2019-10-14  369.88  374.28  368.33  368.82   2124500        0.0             0\n2019-10-30  342.58  345.91  339.26  342.02   3997600        0.0             0\n2019-11-12  364.32  364.94  357.88  360.73   5769700        0.0             0\n2019-11-21  367.56  368.57  364.09  364.27   2703800        0.0             0\n2019-12-09  350.58  351.51  347.50  349.13   2844600        0.0             0\n2019-12-12  346.19  348.99  338.98  344.24   5970000        0.0             0\n2020-02-07  338.36  338.72  333.70  334.76   5337800        0.0             0\n2020-06-26  173.42  173.85  167.60  170.01  50644400        0.0             0\n2020-06-30  188.02  188.49  180.38  183.30  65493100        0.0             0",
      "text/html": "<div>\n<style scoped>\n    .dataframe tbody tr th:only-of-type {\n        vertical-align: middle;\n    }\n\n    .dataframe tbody tr th {\n        vertical-align: top;\n    }\n\n    .dataframe thead th {\n        text-align: right;\n    }\n</style>\n<table border=\"1\" class=\"dataframe\">\n  <thead>\n    <tr style=\"text-align: right;\">\n      <th></th>\n      <th>Open</th>\n      <th>High</th>\n      <th>Low</th>\n      <th>Close</th>\n      <th>Volume</th>\n      <th>Dividends</th>\n      <th>Stock Splits</th>\n    </tr>\n    <tr>\n      <th>Date</th>\n      <th></th>\n      <th></th>\n      <th></th>\n      <th></th>\n      <th></th>\n      <th></th>\n      <th></th>\n    </tr>\n  </thead>\n  <tbody>\n    <tr>\n      <th>2019-07-22</th>\n      <td>370.23</td>\n      <td>375.67</td>\n      <td>365.27</td>\n      <td>366.77</td>\n      <td>4265100</td>\n      <td>0.0</td>\n      <td>0</td>\n    </tr>\n    <tr>\n      <th>2019-09-19</th>\n      <td>381.63</td>\n      <td>383.98</td>\n      <td>378.43</td>\n      <td>379.95</td>\n      <td>2928800</td>\n      <td>0.0</td>\n      <td>0</td>\n    </tr>\n    <tr>\n      <th>2019-10-14</th>\n      <td>369.88</td>\n      <td>374.28</td>\n      <td>368.33</td>\n      <td>368.82</td>\n      <td>2124500</td>\n      <td>0.0</td>\n      <td>0</td>\n    </tr>\n    <tr>\n      <th>2019-10-30</th>\n      <td>342.58</td>\n      <td>345.91</td>\n      <td>339.26</td>\n      <td>342.02</td>\n      <td>3997600</td>\n      <td>0.0</td>\n      <td>0</td>\n    </tr>\n    <tr>\n      <th>2019-11-12</th>\n      <td>364.32</td>\n      <td>364.94</td>\n      <td>357.88</td>\n      <td>360.73</td>\n      <td>5769700</td>\n      <td>0.0</td>\n      <td>0</td>\n    </tr>\n    <tr>\n      <th>2019-11-21</th>\n      <td>367.56</td>\n      <td>368.57</td>\n      <td>364.09</td>\n      <td>364.27</td>\n      <td>2703800</td>\n      <td>0.0</td>\n      <td>0</td>\n    </tr>\n    <tr>\n      <th>2019-12-09</th>\n      <td>350.58</td>\n      <td>351.51</td>\n      <td>347.50</td>\n      <td>349.13</td>\n      <td>2844600</td>\n      <td>0.0</td>\n      <td>0</td>\n    </tr>\n    <tr>\n      <th>2019-12-12</th>\n      <td>346.19</td>\n      <td>348.99</td>\n      <td>338.98</td>\n      <td>344.24</td>\n      <td>5970000</td>\n      <td>0.0</td>\n      <td>0</td>\n    </tr>\n    <tr>\n      <th>2020-02-07</th>\n      <td>338.36</td>\n      <td>338.72</td>\n      <td>333.70</td>\n      <td>334.76</td>\n      <td>5337800</td>\n      <td>0.0</td>\n      <td>0</td>\n    </tr>\n    <tr>\n      <th>2020-06-26</th>\n      <td>173.42</td>\n      <td>173.85</td>\n      <td>167.60</td>\n      <td>170.01</td>\n      <td>50644400</td>\n      <td>0.0</td>\n      <td>0</td>\n    </tr>\n    <tr>\n      <th>2020-06-30</th>\n      <td>188.02</td>\n      <td>188.49</td>\n      <td>180.38</td>\n      <td>183.30</td>\n      <td>65493100</td>\n      <td>0.0</td>\n      <td>0</td>\n    </tr>\n  </tbody>\n</table>\n</div>"
     },
     "metadata": {},
     "execution_count": 58
    }
   ],
   "source": [
    "ba_1y.loc[(ba_1y['Close'] < ba_1y['Open'] ) & \\\n",
    "    (ba_1y['Close'].shift(1) > ba_1y['Open']) & \\\n",
    "    (ba_1y['Open'].shift(1) < ba_1y['Close'])]"
   ]
  },
  {
   "cell_type": "code",
   "execution_count": 60,
   "metadata": {},
   "outputs": [
    {
     "output_type": "execute_result",
     "data": {
      "text/plain": "              Open    High     Low   Close    Volume  Dividends  Stock Splits\nDate                                                                         \n2020-06-30  188.02  188.49  180.38  183.30  65493100        0.0             0\n2020-07-01  185.88  190.61  180.04  180.32  49036700        0.0             0",
      "text/html": "<div>\n<style scoped>\n    .dataframe tbody tr th:only-of-type {\n        vertical-align: middle;\n    }\n\n    .dataframe tbody tr th {\n        vertical-align: top;\n    }\n\n    .dataframe thead th {\n        text-align: right;\n    }\n</style>\n<table border=\"1\" class=\"dataframe\">\n  <thead>\n    <tr style=\"text-align: right;\">\n      <th></th>\n      <th>Open</th>\n      <th>High</th>\n      <th>Low</th>\n      <th>Close</th>\n      <th>Volume</th>\n      <th>Dividends</th>\n      <th>Stock Splits</th>\n    </tr>\n    <tr>\n      <th>Date</th>\n      <th></th>\n      <th></th>\n      <th></th>\n      <th></th>\n      <th></th>\n      <th></th>\n      <th></th>\n    </tr>\n  </thead>\n  <tbody>\n    <tr>\n      <th>2020-06-30</th>\n      <td>188.02</td>\n      <td>188.49</td>\n      <td>180.38</td>\n      <td>183.30</td>\n      <td>65493100</td>\n      <td>0.0</td>\n      <td>0</td>\n    </tr>\n    <tr>\n      <th>2020-07-01</th>\n      <td>185.88</td>\n      <td>190.61</td>\n      <td>180.04</td>\n      <td>180.32</td>\n      <td>49036700</td>\n      <td>0.0</td>\n      <td>0</td>\n    </tr>\n  </tbody>\n</table>\n</div>"
     },
     "metadata": {},
     "execution_count": 60
    }
   ],
   "source": [
    "ba_1y.loc['2020-06-30':'2020-07-01']"
   ]
  },
  {
   "cell_type": "code",
   "execution_count": null,
   "metadata": {},
   "outputs": [],
   "source": []
  }
 ]
}