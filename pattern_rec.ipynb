{
 "metadata": {
  "language_info": {
   "codemirror_mode": {
    "name": "ipython",
    "version": 3
   },
   "file_extension": ".py",
   "mimetype": "text/x-python",
   "name": "python",
   "nbconvert_exporter": "python",
   "pygments_lexer": "ipython3",
   "version": "3.8.3-final"
  },
  "orig_nbformat": 2,
  "kernelspec": {
   "name": "python38332bit8b07637a70ff4edea6aa6bcbd1fc18e9",
   "display_name": "Python 3.8.3 32-bit"
  }
 },
 "nbformat": 4,
 "nbformat_minor": 2,
 "cells": [
  {
   "cell_type": "code",
   "execution_count": 4,
   "metadata": {},
   "outputs": [],
   "source": [
    "import yfinance as yf\n",
    "import pandas as pd"
   ]
  },
  {
   "cell_type": "code",
   "execution_count": 35,
   "metadata": {},
   "outputs": [],
   "source": [
    "# ba_1y = yf.Ticker('BA').history(period='1y')"
   ]
  },
  {
   "cell_type": "code",
   "execution_count": 13,
   "metadata": {},
   "outputs": [],
   "source": [
    "ba_1y = pd.read_csv('DataFiles/ba_1y.csv', index_col='Date')"
   ]
  },
  {
   "cell_type": "code",
   "execution_count": 39,
   "metadata": {},
   "outputs": [],
   "source": [
    "ba_1y['close_pl_1'] = ba_1y['Close'].shift(-1)\n",
    "ba_1y['close_pl_2'] = ba_1y['Close'].shift(-2)\n",
    "ba_1y['close_pl_3'] = ba_1y['Close'].shift(-3)"
   ]
  },
  {
   "cell_type": "code",
   "execution_count": 23,
   "metadata": {},
   "outputs": [],
   "source": [
    "# bullish engulfing\n",
    "ba_bull_eng = ba_1y.loc[(ba_1y['Close'] < ba_1y['Open'] ) & \\\n",
    "    (ba_1y['Close'].shift(-1) > ba_1y['Open']) & \\\n",
    "    (ba_1y['Open'].shift(-1) < ba_1y['Close'])]"
   ]
  },
  {
   "cell_type": "code",
   "execution_count": 46,
   "metadata": {},
   "outputs": [
    {
     "output_type": "execute_result",
     "data": {
      "text/plain": "              Open    High     Low   Close    Volume  Dividends  Stock Splits  \\\nDate                                                                            \n2019-08-27  355.22  357.09  349.49  350.59   3740300        0.0             0   \n2019-10-02  367.51  368.63  359.52  363.07   3698300        0.0             0   \n2020-01-22  307.99  310.99  300.93  307.17  18792600        0.0             0   \n\n            close_pl_1  close_pl_2  close_pl_3  \nDate                                            \n2019-08-27      355.76      358.50      359.84  \n2019-10-02      367.72      371.31      372.14  \n2020-01-22      315.91      321.14      314.73  ",
      "text/html": "<div>\n<style scoped>\n    .dataframe tbody tr th:only-of-type {\n        vertical-align: middle;\n    }\n\n    .dataframe tbody tr th {\n        vertical-align: top;\n    }\n\n    .dataframe thead th {\n        text-align: right;\n    }\n</style>\n<table border=\"1\" class=\"dataframe\">\n  <thead>\n    <tr style=\"text-align: right;\">\n      <th></th>\n      <th>Open</th>\n      <th>High</th>\n      <th>Low</th>\n      <th>Close</th>\n      <th>Volume</th>\n      <th>Dividends</th>\n      <th>Stock Splits</th>\n      <th>close_pl_1</th>\n      <th>close_pl_2</th>\n      <th>close_pl_3</th>\n    </tr>\n    <tr>\n      <th>Date</th>\n      <th></th>\n      <th></th>\n      <th></th>\n      <th></th>\n      <th></th>\n      <th></th>\n      <th></th>\n      <th></th>\n      <th></th>\n      <th></th>\n    </tr>\n  </thead>\n  <tbody>\n    <tr>\n      <th>2019-08-27</th>\n      <td>355.22</td>\n      <td>357.09</td>\n      <td>349.49</td>\n      <td>350.59</td>\n      <td>3740300</td>\n      <td>0.0</td>\n      <td>0</td>\n      <td>355.76</td>\n      <td>358.50</td>\n      <td>359.84</td>\n    </tr>\n    <tr>\n      <th>2019-10-02</th>\n      <td>367.51</td>\n      <td>368.63</td>\n      <td>359.52</td>\n      <td>363.07</td>\n      <td>3698300</td>\n      <td>0.0</td>\n      <td>0</td>\n      <td>367.72</td>\n      <td>371.31</td>\n      <td>372.14</td>\n    </tr>\n    <tr>\n      <th>2020-01-22</th>\n      <td>307.99</td>\n      <td>310.99</td>\n      <td>300.93</td>\n      <td>307.17</td>\n      <td>18792600</td>\n      <td>0.0</td>\n      <td>0</td>\n      <td>315.91</td>\n      <td>321.14</td>\n      <td>314.73</td>\n    </tr>\n  </tbody>\n</table>\n</div>"
     },
     "metadata": {},
     "execution_count": 46
    }
   ],
   "source": [
    "ba_1y.loc[(ba_1y['Close'] < ba_1y['Open'] ) & \\\n",
    "    (ba_1y['Close'].shift(-1) > ba_1y['Open']) & \\\n",
    "    (ba_1y['Open'].shift(-1) < ba_1y['Close']) & \\\n",
    "    (ba_1y['Close'].shift(-1) < ba_1y['Close'].shift(-2) )\n",
    "        ]"
   ]
  },
  {
   "cell_type": "code",
   "execution_count": 22,
   "metadata": {},
   "outputs": [
    {
     "output_type": "execute_result",
     "data": {
      "text/plain": "              Open   Close\nDate                      \n2019-07-29  338.85  334.15\n2019-08-27  355.22  350.59\n2019-10-02  367.51  363.07\n2019-10-28  337.51  336.90\n2019-11-08  354.29  348.92\n2020-01-22  307.99  307.17",
      "text/html": "<div>\n<style scoped>\n    .dataframe tbody tr th:only-of-type {\n        vertical-align: middle;\n    }\n\n    .dataframe tbody tr th {\n        vertical-align: top;\n    }\n\n    .dataframe thead th {\n        text-align: right;\n    }\n</style>\n<table border=\"1\" class=\"dataframe\">\n  <thead>\n    <tr style=\"text-align: right;\">\n      <th></th>\n      <th>Open</th>\n      <th>Close</th>\n    </tr>\n    <tr>\n      <th>Date</th>\n      <th></th>\n      <th></th>\n    </tr>\n  </thead>\n  <tbody>\n    <tr>\n      <th>2019-07-29</th>\n      <td>338.85</td>\n      <td>334.15</td>\n    </tr>\n    <tr>\n      <th>2019-08-27</th>\n      <td>355.22</td>\n      <td>350.59</td>\n    </tr>\n    <tr>\n      <th>2019-10-02</th>\n      <td>367.51</td>\n      <td>363.07</td>\n    </tr>\n    <tr>\n      <th>2019-10-28</th>\n      <td>337.51</td>\n      <td>336.90</td>\n    </tr>\n    <tr>\n      <th>2019-11-08</th>\n      <td>354.29</td>\n      <td>348.92</td>\n    </tr>\n    <tr>\n      <th>2020-01-22</th>\n      <td>307.99</td>\n      <td>307.17</td>\n    </tr>\n  </tbody>\n</table>\n</div>"
     },
     "metadata": {},
     "execution_count": 22
    }
   ],
   "source": [
    "ba_bull_eng"
   ]
  },
  {
   "cell_type": "code",
   "execution_count": 60,
   "metadata": {},
   "outputs": [
    {
     "output_type": "execute_result",
     "data": {
      "text/plain": "              Open    High     Low   Close    Volume  Dividends  Stock Splits\nDate                                                                         \n2020-06-30  188.02  188.49  180.38  183.30  65493100        0.0             0\n2020-07-01  185.88  190.61  180.04  180.32  49036700        0.0             0",
      "text/html": "<div>\n<style scoped>\n    .dataframe tbody tr th:only-of-type {\n        vertical-align: middle;\n    }\n\n    .dataframe tbody tr th {\n        vertical-align: top;\n    }\n\n    .dataframe thead th {\n        text-align: right;\n    }\n</style>\n<table border=\"1\" class=\"dataframe\">\n  <thead>\n    <tr style=\"text-align: right;\">\n      <th></th>\n      <th>Open</th>\n      <th>High</th>\n      <th>Low</th>\n      <th>Close</th>\n      <th>Volume</th>\n      <th>Dividends</th>\n      <th>Stock Splits</th>\n    </tr>\n    <tr>\n      <th>Date</th>\n      <th></th>\n      <th></th>\n      <th></th>\n      <th></th>\n      <th></th>\n      <th></th>\n      <th></th>\n    </tr>\n  </thead>\n  <tbody>\n    <tr>\n      <th>2020-06-30</th>\n      <td>188.02</td>\n      <td>188.49</td>\n      <td>180.38</td>\n      <td>183.30</td>\n      <td>65493100</td>\n      <td>0.0</td>\n      <td>0</td>\n    </tr>\n    <tr>\n      <th>2020-07-01</th>\n      <td>185.88</td>\n      <td>190.61</td>\n      <td>180.04</td>\n      <td>180.32</td>\n      <td>49036700</td>\n      <td>0.0</td>\n      <td>0</td>\n    </tr>\n  </tbody>\n</table>\n</div>"
     },
     "metadata": {},
     "execution_count": 60
    }
   ],
   "source": [
    "ba_1y.loc['2020-06-30':'2020-07-01']"
   ]
  },
  {
   "cell_type": "code",
   "execution_count": 2,
   "metadata": {},
   "outputs": [
    {
     "output_type": "execute_result",
     "data": {
      "text/plain": "402.82"
     },
     "metadata": {},
     "execution_count": 2
    }
   ],
   "source": [
    "4833.84/12"
   ]
  },
  {
   "cell_type": "code",
   "execution_count": null,
   "metadata": {},
   "outputs": [],
   "source": []
  }
 ]
}