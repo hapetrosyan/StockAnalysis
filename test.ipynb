{
 "cells": [
  {
   "cell_type": "code",
   "execution_count": 1,
   "metadata": {},
   "outputs": [],
   "source": [
    "import pandas as pd\n",
    "import numpy as np\n",
    "import matplotlib.pyplot as plt\n",
    "from datetime import datetime\n",
    "from datetime import timedelta\n",
    "import stocksymbol as ss"
   ]
  },
  {
   "cell_type": "code",
   "execution_count": 2,
   "metadata": {},
   "outputs": [],
   "source": [
    "goog = ss.StockSymbol('GOOG')"
   ]
  },
  {
   "cell_type": "code",
   "execution_count": 3,
   "metadata": {},
   "outputs": [
    {
     "output_type": "execute_result",
     "data": {
      "text/plain": "               datetime     open     high       low    close          ccp  \\\n0   2020-07-14 16:05:00  1520.58  1520.58  1520.580  1520.58            0   \n1   2020-07-14 16:10:00  1518.95  1518.95  1518.950  1518.95  -0.00107196   \n2   2020-07-14 16:15:00  1520.58  1520.58  1520.580  1520.58   0.00107311   \n3   2020-07-14 16:20:00  1517.97  1517.97  1517.970  1517.97  -0.00171645   \n4   2020-07-14 16:25:00  1518.96  1518.96  1518.960  1518.96  0.000652187   \n..                  ...      ...      ...       ...      ...          ...   \n95  2020-07-15 16:00:00  1511.30  1514.73  1510.385  1513.85   0.00186628   \n96  2020-07-15 16:05:00  1513.64  1513.64  1513.640  1513.64 -0.000138719   \n97  2020-07-15 16:15:00  1513.64  1513.64  1513.640  1513.64            0   \n98  2020-07-15 17:05:00  1514.33  1514.33  1514.330  1514.33  0.000455855   \n99  2020-07-15 17:25:00  1514.33  1514.33  1514.330  1514.33            0   \n\n     volume  \n0   26081.0  \n1     607.0  \n2    3099.0  \n3     436.0  \n4     518.0  \n..      ...  \n95  60132.0  \n96  37053.0  \n97    229.0  \n98    306.0  \n99    100.0  \n\n[100 rows x 7 columns]",
      "text/html": "<div>\n<style scoped>\n    .dataframe tbody tr th:only-of-type {\n        vertical-align: middle;\n    }\n\n    .dataframe tbody tr th {\n        vertical-align: top;\n    }\n\n    .dataframe thead th {\n        text-align: right;\n    }\n</style>\n<table border=\"1\" class=\"dataframe\">\n  <thead>\n    <tr style=\"text-align: right;\">\n      <th></th>\n      <th>datetime</th>\n      <th>open</th>\n      <th>high</th>\n      <th>low</th>\n      <th>close</th>\n      <th>ccp</th>\n      <th>volume</th>\n    </tr>\n  </thead>\n  <tbody>\n    <tr>\n      <th>0</th>\n      <td>2020-07-14 16:05:00</td>\n      <td>1520.58</td>\n      <td>1520.58</td>\n      <td>1520.580</td>\n      <td>1520.58</td>\n      <td>0</td>\n      <td>26081.0</td>\n    </tr>\n    <tr>\n      <th>1</th>\n      <td>2020-07-14 16:10:00</td>\n      <td>1518.95</td>\n      <td>1518.95</td>\n      <td>1518.950</td>\n      <td>1518.95</td>\n      <td>-0.00107196</td>\n      <td>607.0</td>\n    </tr>\n    <tr>\n      <th>2</th>\n      <td>2020-07-14 16:15:00</td>\n      <td>1520.58</td>\n      <td>1520.58</td>\n      <td>1520.580</td>\n      <td>1520.58</td>\n      <td>0.00107311</td>\n      <td>3099.0</td>\n    </tr>\n    <tr>\n      <th>3</th>\n      <td>2020-07-14 16:20:00</td>\n      <td>1517.97</td>\n      <td>1517.97</td>\n      <td>1517.970</td>\n      <td>1517.97</td>\n      <td>-0.00171645</td>\n      <td>436.0</td>\n    </tr>\n    <tr>\n      <th>4</th>\n      <td>2020-07-14 16:25:00</td>\n      <td>1518.96</td>\n      <td>1518.96</td>\n      <td>1518.960</td>\n      <td>1518.96</td>\n      <td>0.000652187</td>\n      <td>518.0</td>\n    </tr>\n    <tr>\n      <th>...</th>\n      <td>...</td>\n      <td>...</td>\n      <td>...</td>\n      <td>...</td>\n      <td>...</td>\n      <td>...</td>\n      <td>...</td>\n    </tr>\n    <tr>\n      <th>95</th>\n      <td>2020-07-15 16:00:00</td>\n      <td>1511.30</td>\n      <td>1514.73</td>\n      <td>1510.385</td>\n      <td>1513.85</td>\n      <td>0.00186628</td>\n      <td>60132.0</td>\n    </tr>\n    <tr>\n      <th>96</th>\n      <td>2020-07-15 16:05:00</td>\n      <td>1513.64</td>\n      <td>1513.64</td>\n      <td>1513.640</td>\n      <td>1513.64</td>\n      <td>-0.000138719</td>\n      <td>37053.0</td>\n    </tr>\n    <tr>\n      <th>97</th>\n      <td>2020-07-15 16:15:00</td>\n      <td>1513.64</td>\n      <td>1513.64</td>\n      <td>1513.640</td>\n      <td>1513.64</td>\n      <td>0</td>\n      <td>229.0</td>\n    </tr>\n    <tr>\n      <th>98</th>\n      <td>2020-07-15 17:05:00</td>\n      <td>1514.33</td>\n      <td>1514.33</td>\n      <td>1514.330</td>\n      <td>1514.33</td>\n      <td>0.000455855</td>\n      <td>306.0</td>\n    </tr>\n    <tr>\n      <th>99</th>\n      <td>2020-07-15 17:25:00</td>\n      <td>1514.33</td>\n      <td>1514.33</td>\n      <td>1514.330</td>\n      <td>1514.33</td>\n      <td>0</td>\n      <td>100.0</td>\n    </tr>\n  </tbody>\n</table>\n<p>100 rows × 7 columns</p>\n</div>"
     },
     "metadata": {},
     "execution_count": 3
    }
   ],
   "source": [
    "goog.alphavantage_intraday_5_min_df"
   ]
  },
  {
   "cell_type": "code",
   "execution_count": 4,
   "metadata": {},
   "outputs": [
    {
     "output_type": "execute_result",
     "data": {
      "text/plain": "      datetime     open     high      low    close         ccp     volume\n0   2020-02-25  1433.00  1438.14  1382.40  1388.45           0  2478278.0\n1   2020-02-26  1396.14  1415.70  1379.00  1393.18  0.00340668  2204037.0\n2   2020-02-27  1362.06  1371.70  1317.17  1318.09  -0.0538983  2978300.0\n3   2020-02-28  1277.50  1341.14  1271.00  1339.33   0.0161142  3790618.0\n4   2020-03-02  1351.61  1390.87  1326.82  1389.11   0.0371678  2431468.0\n..         ...      ...      ...      ...      ...         ...        ...\n95  2020-07-10  1506.15  1543.83  1496.54  1541.74   0.0203509  1857200.0\n96  2020-07-13  1550.00  1577.13  1505.24  1511.34   -0.019718  1846400.0\n97  2020-07-14  1490.31  1522.95  1483.50  1520.58  0.00611378  1585000.0\n98  2020-07-15  1523.13  1535.33  1498.00  1513.64 -0.00456405  1761000.0\n99  2020-07-16  1500.00  1518.69  1486.31  1518.00  0.00288047  1445100.0\n\n[100 rows x 7 columns]",
      "text/html": "<div>\n<style scoped>\n    .dataframe tbody tr th:only-of-type {\n        vertical-align: middle;\n    }\n\n    .dataframe tbody tr th {\n        vertical-align: top;\n    }\n\n    .dataframe thead th {\n        text-align: right;\n    }\n</style>\n<table border=\"1\" class=\"dataframe\">\n  <thead>\n    <tr style=\"text-align: right;\">\n      <th></th>\n      <th>datetime</th>\n      <th>open</th>\n      <th>high</th>\n      <th>low</th>\n      <th>close</th>\n      <th>ccp</th>\n      <th>volume</th>\n    </tr>\n  </thead>\n  <tbody>\n    <tr>\n      <th>0</th>\n      <td>2020-02-25</td>\n      <td>1433.00</td>\n      <td>1438.14</td>\n      <td>1382.40</td>\n      <td>1388.45</td>\n      <td>0</td>\n      <td>2478278.0</td>\n    </tr>\n    <tr>\n      <th>1</th>\n      <td>2020-02-26</td>\n      <td>1396.14</td>\n      <td>1415.70</td>\n      <td>1379.00</td>\n      <td>1393.18</td>\n      <td>0.00340668</td>\n      <td>2204037.0</td>\n    </tr>\n    <tr>\n      <th>2</th>\n      <td>2020-02-27</td>\n      <td>1362.06</td>\n      <td>1371.70</td>\n      <td>1317.17</td>\n      <td>1318.09</td>\n      <td>-0.0538983</td>\n      <td>2978300.0</td>\n    </tr>\n    <tr>\n      <th>3</th>\n      <td>2020-02-28</td>\n      <td>1277.50</td>\n      <td>1341.14</td>\n      <td>1271.00</td>\n      <td>1339.33</td>\n      <td>0.0161142</td>\n      <td>3790618.0</td>\n    </tr>\n    <tr>\n      <th>4</th>\n      <td>2020-03-02</td>\n      <td>1351.61</td>\n      <td>1390.87</td>\n      <td>1326.82</td>\n      <td>1389.11</td>\n      <td>0.0371678</td>\n      <td>2431468.0</td>\n    </tr>\n    <tr>\n      <th>...</th>\n      <td>...</td>\n      <td>...</td>\n      <td>...</td>\n      <td>...</td>\n      <td>...</td>\n      <td>...</td>\n      <td>...</td>\n    </tr>\n    <tr>\n      <th>95</th>\n      <td>2020-07-10</td>\n      <td>1506.15</td>\n      <td>1543.83</td>\n      <td>1496.54</td>\n      <td>1541.74</td>\n      <td>0.0203509</td>\n      <td>1857200.0</td>\n    </tr>\n    <tr>\n      <th>96</th>\n      <td>2020-07-13</td>\n      <td>1550.00</td>\n      <td>1577.13</td>\n      <td>1505.24</td>\n      <td>1511.34</td>\n      <td>-0.019718</td>\n      <td>1846400.0</td>\n    </tr>\n    <tr>\n      <th>97</th>\n      <td>2020-07-14</td>\n      <td>1490.31</td>\n      <td>1522.95</td>\n      <td>1483.50</td>\n      <td>1520.58</td>\n      <td>0.00611378</td>\n      <td>1585000.0</td>\n    </tr>\n    <tr>\n      <th>98</th>\n      <td>2020-07-15</td>\n      <td>1523.13</td>\n      <td>1535.33</td>\n      <td>1498.00</td>\n      <td>1513.64</td>\n      <td>-0.00456405</td>\n      <td>1761000.0</td>\n    </tr>\n    <tr>\n      <th>99</th>\n      <td>2020-07-16</td>\n      <td>1500.00</td>\n      <td>1518.69</td>\n      <td>1486.31</td>\n      <td>1518.00</td>\n      <td>0.00288047</td>\n      <td>1445100.0</td>\n    </tr>\n  </tbody>\n</table>\n<p>100 rows × 7 columns</p>\n</div>"
     },
     "metadata": {},
     "execution_count": 4
    }
   ],
   "source": [
    "goog.alphavantage_100_days_df"
   ]
  },
  {
   "cell_type": "code",
   "execution_count": null,
   "metadata": {},
   "outputs": [],
   "source": []
  }
 ],
 "metadata": {
  "language_info": {
   "codemirror_mode": {
    "name": "ipython",
    "version": 3
   },
   "file_extension": ".py",
   "mimetype": "text/x-python",
   "name": "python",
   "nbconvert_exporter": "python",
   "pygments_lexer": "ipython3",
   "version": "3.6.8-final"
  },
  "orig_nbformat": 2,
  "kernelspec": {
   "name": "python_defaultSpec_1594952463965",
   "display_name": "Python 3.8.3 32-bit"
  }
 },
 "nbformat": 4,
 "nbformat_minor": 2
}