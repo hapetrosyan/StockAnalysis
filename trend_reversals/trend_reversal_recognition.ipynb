{
 "metadata": {
  "language_info": {
   "codemirror_mode": {
    "name": "ipython",
    "version": 3
   },
   "file_extension": ".py",
   "mimetype": "text/x-python",
   "name": "python",
   "nbconvert_exporter": "python",
   "pygments_lexer": "ipython3",
   "version": "3.8.3-final"
  },
  "orig_nbformat": 2,
  "kernelspec": {
   "name": "python38332bit8b07637a70ff4edea6aa6bcbd1fc18e9",
   "display_name": "Python 3.8.3 32-bit"
  }
 },
 "nbformat": 4,
 "nbformat_minor": 2,
 "cells": [
  {
   "cell_type": "code",
   "execution_count": 2,
   "metadata": {},
   "outputs": [],
   "source": [
    "import yfinance as yf\n",
    "import pandas as pd\n",
    "import matplotlib.pyplot as plt\n",
    "import numpy as np"
   ]
  },
  {
   "cell_type": "code",
   "execution_count": 3,
   "metadata": {},
   "outputs": [],
   "source": [
    "# ba_1y = yf.Ticker('BA').history(period='1y')\n",
    "ba_1y = pd.read_csv('DataFiles/ba_1y.csv', index_col='Date')\n",
    "data = ba_1y[['Open', 'High', 'Low', 'Close']]"
   ]
  },
  {
   "cell_type": "code",
   "execution_count": 5,
   "metadata": {
    "tags": []
   },
   "outputs": [],
   "source": [
    "data['swings'] = np.nan\n",
    "pivot = data.iloc[0]['Open']\n",
    "last_pivot_id = 0\n",
    "up_down = 0\n",
    "diff = .3\n",
    "\n",
    "for i in range(0, len(data)):\n",
    "    row = data.iloc[i]\n",
    "\n",
    "    # We don't have a trend yet\n",
    "    if up_down == 0:\n",
    "        if row['Low'] < pivot - diff:\n",
    "            data.iloc[i]['swings'] = row['Low'] - pivot\n",
    "            pivot, last_pivot_id = row['Low'], i\n",
    "            up_down = -1\n",
    "        elif row['High'] > pivot + diff:\n",
    "            data.iloc[i]['swings'] = row['High'] - pivot\n",
    "            pivot, last_pivot_id = row['High'], i\n",
    "            up_down = 1\n",
    "    "
   ]
  },
  {
   "cell_type": "code",
   "execution_count": 14,
   "metadata": {},
   "outputs": [
    {
     "output_type": "execute_result",
     "data": {
      "text/plain": "              Open    High     Low   Close  swings\nDate                                              \n2019-07-18  361.05  361.89  353.34  354.68     NaN\n2019-07-19  364.07  371.66  361.94  370.64     NaN\n2019-07-22  370.23  375.67  365.27  366.77     NaN\n2019-07-23  367.60  369.73  364.08  366.43     NaN\n2019-07-24  363.68  364.75  353.62  354.99     NaN\n...            ...     ...     ...     ...     ...\n2020-07-13  180.20  183.25  174.36  175.65     NaN\n2020-07-14  177.00  181.30  173.41  179.96     NaN\n2020-07-15  185.54  189.53  181.25  187.94     NaN\n2020-07-16  184.32  184.59  177.34  178.70     NaN\n2020-07-17  178.41  181.10  175.55  175.66     NaN\n\n[253 rows x 5 columns]",
      "text/html": "<div>\n<style scoped>\n    .dataframe tbody tr th:only-of-type {\n        vertical-align: middle;\n    }\n\n    .dataframe tbody tr th {\n        vertical-align: top;\n    }\n\n    .dataframe thead th {\n        text-align: right;\n    }\n</style>\n<table border=\"1\" class=\"dataframe\">\n  <thead>\n    <tr style=\"text-align: right;\">\n      <th></th>\n      <th>Open</th>\n      <th>High</th>\n      <th>Low</th>\n      <th>Close</th>\n      <th>swings</th>\n    </tr>\n    <tr>\n      <th>Date</th>\n      <th></th>\n      <th></th>\n      <th></th>\n      <th></th>\n      <th></th>\n    </tr>\n  </thead>\n  <tbody>\n    <tr>\n      <th>2019-07-18</th>\n      <td>361.05</td>\n      <td>361.89</td>\n      <td>353.34</td>\n      <td>354.68</td>\n      <td>NaN</td>\n    </tr>\n    <tr>\n      <th>2019-07-19</th>\n      <td>364.07</td>\n      <td>371.66</td>\n      <td>361.94</td>\n      <td>370.64</td>\n      <td>NaN</td>\n    </tr>\n    <tr>\n      <th>2019-07-22</th>\n      <td>370.23</td>\n      <td>375.67</td>\n      <td>365.27</td>\n      <td>366.77</td>\n      <td>NaN</td>\n    </tr>\n    <tr>\n      <th>2019-07-23</th>\n      <td>367.60</td>\n      <td>369.73</td>\n      <td>364.08</td>\n      <td>366.43</td>\n      <td>NaN</td>\n    </tr>\n    <tr>\n      <th>2019-07-24</th>\n      <td>363.68</td>\n      <td>364.75</td>\n      <td>353.62</td>\n      <td>354.99</td>\n      <td>NaN</td>\n    </tr>\n    <tr>\n      <th>...</th>\n      <td>...</td>\n      <td>...</td>\n      <td>...</td>\n      <td>...</td>\n      <td>...</td>\n    </tr>\n    <tr>\n      <th>2020-07-13</th>\n      <td>180.20</td>\n      <td>183.25</td>\n      <td>174.36</td>\n      <td>175.65</td>\n      <td>NaN</td>\n    </tr>\n    <tr>\n      <th>2020-07-14</th>\n      <td>177.00</td>\n      <td>181.30</td>\n      <td>173.41</td>\n      <td>179.96</td>\n      <td>NaN</td>\n    </tr>\n    <tr>\n      <th>2020-07-15</th>\n      <td>185.54</td>\n      <td>189.53</td>\n      <td>181.25</td>\n      <td>187.94</td>\n      <td>NaN</td>\n    </tr>\n    <tr>\n      <th>2020-07-16</th>\n      <td>184.32</td>\n      <td>184.59</td>\n      <td>177.34</td>\n      <td>178.70</td>\n      <td>NaN</td>\n    </tr>\n    <tr>\n      <th>2020-07-17</th>\n      <td>178.41</td>\n      <td>181.10</td>\n      <td>175.55</td>\n      <td>175.66</td>\n      <td>NaN</td>\n    </tr>\n  </tbody>\n</table>\n<p>253 rows × 5 columns</p>\n</div>"
     },
     "metadata": {},
     "execution_count": 14
    }
   ],
   "source": [
    "data"
   ]
  },
  {
   "cell_type": "code",
   "execution_count": 17,
   "metadata": {},
   "outputs": [],
   "source": [
    "data.iloc[0]['swings'] = 11"
   ]
  },
  {
   "cell_type": "code",
   "execution_count": 24,
   "metadata": {},
   "outputs": [
    {
     "output_type": "execute_result",
     "data": {
      "text/plain": "Open      361.05\nHigh      361.89\nLow       353.34\nClose     354.68\nswings     22.00\nName: 2019-07-18, dtype: float64"
     },
     "metadata": {},
     "execution_count": 24
    }
   ],
   "source": [
    "data.iloc[0]"
   ]
  },
  {
   "cell_type": "code",
   "execution_count": 23,
   "metadata": {},
   "outputs": [],
   "source": [
    "data.iloc[0, -1] = 22"
   ]
  },
  {
   "cell_type": "code",
   "execution_count": null,
   "metadata": {},
   "outputs": [],
   "source": []
  }
 ]
}