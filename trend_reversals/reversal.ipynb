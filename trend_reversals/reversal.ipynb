{
 "metadata": {
  "language_info": {
   "codemirror_mode": {
    "name": "ipython",
    "version": 3
   },
   "file_extension": ".py",
   "mimetype": "text/x-python",
   "name": "python",
   "nbconvert_exporter": "python",
   "pygments_lexer": "ipython3",
   "version": "3.8.3-final"
  },
  "orig_nbformat": 2,
  "kernelspec": {
   "name": "python38332bit8b07637a70ff4edea6aa6bcbd1fc18e9",
   "display_name": "Python 3.8.3 32-bit"
  }
 },
 "nbformat": 4,
 "nbformat_minor": 2,
 "cells": [
  {
   "cell_type": "code",
   "execution_count": 1,
   "metadata": {},
   "outputs": [],
   "source": [
    "import yfinance as yf\n",
    "import pandas as pd\n",
    "import matplotlib.pyplot as plt\n",
    "import numpy as np"
   ]
  },
  {
   "cell_type": "code",
   "execution_count": 2,
   "metadata": {},
   "outputs": [],
   "source": [
    "# ba_1y = yf.Ticker('BA').history(period='1y')\n",
    "ba_1y = pd.read_csv('../DataFiles/amzn_1y.csv', index_col='Date')\n",
    "# data = ba_1y[['Open', 'High', 'Low', 'Close']]\n",
    "df = ba_1y[['Open', 'Close']]"
   ]
  },
  {
   "cell_type": "code",
   "execution_count": 3,
   "metadata": {},
   "outputs": [],
   "source": [
    "df['daily_increase_pct'] = (df['Close'] - df['Open'])/df['Open']*100\n",
    "df['next_day_change'] = (df['Close'] - df['Close'].shift(1))/df['Close'] *100\n",
    "df['is_trend'] = np.sign(df['next_day_change']) * np.sign(df['next_day_change'].shift(1))"
   ]
  },
  {
   "cell_type": "code",
   "execution_count": 9,
   "metadata": {},
   "outputs": [],
   "source": [
    "for i in range(0, len(df)):\n",
    "    df.loc[df.index[i], 'tr_length'] =  df.loc[df.index[i-1], 'tr_length'] + 1 if df.loc[df.index[i], 'is_trend'] == 1 else 0"
   ]
  },
  {
   "cell_type": "code",
   "execution_count": 98,
   "metadata": {},
   "outputs": [],
   "source": [
    "df['trend_end'] = 0\n",
    "df['trend_reversal'] = 0"
   ]
  },
  {
   "cell_type": "code",
   "execution_count": 99,
   "metadata": {
    "tags": []
   },
   "outputs": [],
   "source": [
    "for i in range(0, len(df)):\n",
    "    if df.loc[df.index[i-1], 'tr_length'] > 2 and df.loc[df.index[i], 'tr_length'] == 0:\n",
    "        df.loc[df.index[i], 'trend_end'] = 1"
   ]
  },
  {
   "cell_type": "code",
   "execution_count": 87,
   "metadata": {},
   "outputs": [],
   "source": [
    "for i in range(0, len(df)):\n",
    "    if df.loc[df.index[i], 'trend_end'] == 1 and df.loc[df.index[i+3], 'tr_length'] == 2 and np.sign(df.loc[df.index[i-1], 'next_day_change']) != np.sign(df.loc[df.index[i+3], 'next_day_change']):\n",
    "        df.loc[df.index[i], 'trend_reversal'] = 1"
   ]
  },
  {
   "cell_type": "code",
   "execution_count": 100,
   "metadata": {},
   "outputs": [],
   "source": [
    "for i in range(0, len(df)):\n",
    "    if df.loc[df.index[i], 'trend_end'] == 1 and df.loc[df.index[i+2], 'tr_length'] == 1 and np.sign(df.loc[df.index[i-1], 'next_day_change']) != np.sign(df.loc[df.index[i+2], 'next_day_change']):\n",
    "        df.loc[df.index[i], 'trend_reversal'] = 1"
   ]
  },
  {
   "cell_type": "code",
   "execution_count": 101,
   "metadata": {},
   "outputs": [
    {
     "output_type": "execute_result",
     "data": {
      "text/plain": "Empty DataFrame\nColumns: [Open, Close, daily_increase_pct, next_day_change, is_trend, tr_length, trend_end, trend_reversal]\nIndex: []",
      "text/html": "<div>\n<style scoped>\n    .dataframe tbody tr th:only-of-type {\n        vertical-align: middle;\n    }\n\n    .dataframe tbody tr th {\n        vertical-align: top;\n    }\n\n    .dataframe thead th {\n        text-align: right;\n    }\n</style>\n<table border=\"1\" class=\"dataframe\">\n  <thead>\n    <tr style=\"text-align: right;\">\n      <th></th>\n      <th>Open</th>\n      <th>Close</th>\n      <th>daily_increase_pct</th>\n      <th>next_day_change</th>\n      <th>is_trend</th>\n      <th>tr_length</th>\n      <th>trend_end</th>\n      <th>trend_reversal</th>\n    </tr>\n    <tr>\n      <th>Date</th>\n      <th></th>\n      <th></th>\n      <th></th>\n      <th></th>\n      <th></th>\n      <th></th>\n      <th></th>\n      <th></th>\n    </tr>\n  </thead>\n  <tbody>\n  </tbody>\n</table>\n</div>"
     },
     "metadata": {},
     "execution_count": 101
    }
   ],
   "source": [
    "df[df['trend_reversal'] == 1]"
   ]
  },
  {
   "cell_type": "code",
   "execution_count": 97,
   "metadata": {},
   "outputs": [
    {
     "output_type": "execute_result",
     "data": {
      "text/plain": "               Open    Close  daily_increase_pct  next_day_change  is_trend  \\\nDate                                                                          \n2019-12-02  1804.40  1781.60           -1.263578        -1.077683       1.0   \n2019-12-03  1760.00  1769.96            0.565909        -0.657642       1.0   \n2019-12-04  1774.01  1760.69           -0.750841        -0.526498       1.0   \n2019-12-05  1763.50  1740.48           -1.305359        -1.161174       1.0   \n2019-12-06  1751.20  1751.60            0.022841         0.634848      -1.0   \n2019-12-09  1750.66  1749.51           -0.065690        -0.119462      -1.0   \n2019-12-10  1747.40  1739.21           -0.468696        -0.592223       1.0   \n\n            tr_length  trend_end  trend_reversal  \nDate                                              \n2019-12-02        1.0          0               0  \n2019-12-03        2.0          0               0  \n2019-12-04        3.0          0               0  \n2019-12-05        4.0          0               0  \n2019-12-06        0.0          1               1  \n2019-12-09        0.0          0               0  \n2019-12-10        1.0          0               0  ",
      "text/html": "<div>\n<style scoped>\n    .dataframe tbody tr th:only-of-type {\n        vertical-align: middle;\n    }\n\n    .dataframe tbody tr th {\n        vertical-align: top;\n    }\n\n    .dataframe thead th {\n        text-align: right;\n    }\n</style>\n<table border=\"1\" class=\"dataframe\">\n  <thead>\n    <tr style=\"text-align: right;\">\n      <th></th>\n      <th>Open</th>\n      <th>Close</th>\n      <th>daily_increase_pct</th>\n      <th>next_day_change</th>\n      <th>is_trend</th>\n      <th>tr_length</th>\n      <th>trend_end</th>\n      <th>trend_reversal</th>\n    </tr>\n    <tr>\n      <th>Date</th>\n      <th></th>\n      <th></th>\n      <th></th>\n      <th></th>\n      <th></th>\n      <th></th>\n      <th></th>\n      <th></th>\n    </tr>\n  </thead>\n  <tbody>\n    <tr>\n      <th>2019-12-02</th>\n      <td>1804.40</td>\n      <td>1781.60</td>\n      <td>-1.263578</td>\n      <td>-1.077683</td>\n      <td>1.0</td>\n      <td>1.0</td>\n      <td>0</td>\n      <td>0</td>\n    </tr>\n    <tr>\n      <th>2019-12-03</th>\n      <td>1760.00</td>\n      <td>1769.96</td>\n      <td>0.565909</td>\n      <td>-0.657642</td>\n      <td>1.0</td>\n      <td>2.0</td>\n      <td>0</td>\n      <td>0</td>\n    </tr>\n    <tr>\n      <th>2019-12-04</th>\n      <td>1774.01</td>\n      <td>1760.69</td>\n      <td>-0.750841</td>\n      <td>-0.526498</td>\n      <td>1.0</td>\n      <td>3.0</td>\n      <td>0</td>\n      <td>0</td>\n    </tr>\n    <tr>\n      <th>2019-12-05</th>\n      <td>1763.50</td>\n      <td>1740.48</td>\n      <td>-1.305359</td>\n      <td>-1.161174</td>\n      <td>1.0</td>\n      <td>4.0</td>\n      <td>0</td>\n      <td>0</td>\n    </tr>\n    <tr>\n      <th>2019-12-06</th>\n      <td>1751.20</td>\n      <td>1751.60</td>\n      <td>0.022841</td>\n      <td>0.634848</td>\n      <td>-1.0</td>\n      <td>0.0</td>\n      <td>1</td>\n      <td>1</td>\n    </tr>\n    <tr>\n      <th>2019-12-09</th>\n      <td>1750.66</td>\n      <td>1749.51</td>\n      <td>-0.065690</td>\n      <td>-0.119462</td>\n      <td>-1.0</td>\n      <td>0.0</td>\n      <td>0</td>\n      <td>0</td>\n    </tr>\n    <tr>\n      <th>2019-12-10</th>\n      <td>1747.40</td>\n      <td>1739.21</td>\n      <td>-0.468696</td>\n      <td>-0.592223</td>\n      <td>1.0</td>\n      <td>1.0</td>\n      <td>0</td>\n      <td>0</td>\n    </tr>\n  </tbody>\n</table>\n</div>"
     },
     "metadata": {},
     "execution_count": 97
    }
   ],
   "source": [
    "df['2019-12-01':'2019-12-10']"
   ]
  },
  {
   "cell_type": "code",
   "execution_count": null,
   "metadata": {},
   "outputs": [],
   "source": []
  }
 ]
}