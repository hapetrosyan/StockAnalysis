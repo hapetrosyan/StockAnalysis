{
 "metadata": {
  "language_info": {
   "codemirror_mode": {
    "name": "ipython",
    "version": 3
   },
   "file_extension": ".py",
   "mimetype": "text/x-python",
   "name": "python",
   "nbconvert_exporter": "python",
   "pygments_lexer": "ipython3",
   "version": "3.8.3-final"
  },
  "orig_nbformat": 2,
  "kernelspec": {
   "name": "python38332bit8b07637a70ff4edea6aa6bcbd1fc18e9",
   "display_name": "Python 3.8.3 32-bit"
  }
 },
 "nbformat": 4,
 "nbformat_minor": 2,
 "cells": [
  {
   "cell_type": "code",
   "execution_count": 1,
   "metadata": {},
   "outputs": [],
   "source": [
    "import yfinance as yf\n",
    "import pandas as pd\n",
    "import matplotlib.pyplot as plt\n",
    "import numpy as np"
   ]
  },
  {
   "cell_type": "code",
   "execution_count": 2,
   "metadata": {},
   "outputs": [],
   "source": [
    "# ba_1y = yf.Ticker('BA').history(period='1y')\n",
    "ba_1y = pd.read_csv('../DataFiles/amzn_1y.csv', index_col='Date')\n",
    "# data = ba_1y[['Open', 'High', 'Low', 'Close']]\n",
    "df = ba_1y[['Open', 'Close']]"
   ]
  },
  {
   "cell_type": "code",
   "execution_count": 7,
   "metadata": {},
   "outputs": [],
   "source": [
    "df['daily_increase_pct'] = (df['Close'] - df['Open'])/df['Open']*100\n",
    "df['next_day_change'] = (df['Close'] - df['Close'].shift(1))/df['Close'] *100\n",
    "df['is_trend'] = np.sign(df['next_day_change']) * np.sign(df['next_day_change'].shift(1))"
   ]
  },
  {
   "cell_type": "code",
   "execution_count": 8,
   "metadata": {},
   "outputs": [],
   "source": [
    "for i in range(0, len(df)):\n",
    "    df.loc[df.index[i], 'tr_length'] =  df.loc[df.index[i-1], 'tr_length'] + 1 if df.loc[df.index[i], 'is_trend'] == 1 else 0"
   ]
  },
  {
   "cell_type": "code",
   "execution_count": 9,
   "metadata": {},
   "outputs": [],
   "source": [
    "df['trend_end'] = 0\n",
    "df['trend_reversal'] = 0"
   ]
  },
  {
   "cell_type": "code",
   "execution_count": 18,
   "metadata": {
    "tags": []
   },
   "outputs": [],
   "source": [
    "for i in range(0, len(df)):\n",
    "    if df.loc[df.index[i-1], 'tr_length'] > 1 and df.loc[df.index[i], 'tr_length'] == 0:\n",
    "        df.loc[df.index[i], 'trend_end'] = 1"
   ]
  },
  {
   "cell_type": "code",
   "execution_count": 32,
   "metadata": {},
   "outputs": [],
   "source": [
    "for i in range(0, len(df)):\n",
    "    try:\n",
    "        if df.loc[df.index[i], 'trend_end'] == 1 and \\\n",
    "             df.loc[df.index[i+2], 'tr_length'] == 2 and \\\n",
    "                 np.sign(df.loc[df.index[i-1], 'next_day_change']) != np.sign(df.loc[df.index[i+2], 'next_day_change']):\n",
    "            df.loc[df.index[i], 'trend_reversal'] = 1\n",
    "    except:\n",
    "        pass"
   ]
  },
  {
   "cell_type": "code",
   "execution_count": 34,
   "metadata": {},
   "outputs": [
    {
     "output_type": "execute_result",
     "data": {
      "text/plain": "               Open    Close  daily_increase_pct  next_day_change  is_trend  \\\nDate                                                                          \n2019-09-06  1838.22  1833.51           -0.256226        -0.393235      -1.0   \n2019-11-29  1817.78  1800.80           -0.934106        -0.983452      -1.0   \n2020-01-28  1840.50  1853.25            0.692747         1.344125      -1.0   \n2020-05-21  2500.00  2446.74           -2.130400        -2.092580      -1.0   \n2020-05-29  2415.94  2442.37            1.093984         1.689752      -1.0   \n2020-07-13  3251.06  3104.00           -4.523448        -3.092784      -1.0   \n\n            tr_length  trend_end  trend_reversal  \nDate                                              \n2019-09-06        0.0          1               1  \n2019-11-29        0.0          1               1  \n2020-01-28        0.0          1               1  \n2020-05-21        0.0          1               1  \n2020-05-29        0.0          1               1  \n2020-07-13        0.0          1               1  ",
      "text/html": "<div>\n<style scoped>\n    .dataframe tbody tr th:only-of-type {\n        vertical-align: middle;\n    }\n\n    .dataframe tbody tr th {\n        vertical-align: top;\n    }\n\n    .dataframe thead th {\n        text-align: right;\n    }\n</style>\n<table border=\"1\" class=\"dataframe\">\n  <thead>\n    <tr style=\"text-align: right;\">\n      <th></th>\n      <th>Open</th>\n      <th>Close</th>\n      <th>daily_increase_pct</th>\n      <th>next_day_change</th>\n      <th>is_trend</th>\n      <th>tr_length</th>\n      <th>trend_end</th>\n      <th>trend_reversal</th>\n    </tr>\n    <tr>\n      <th>Date</th>\n      <th></th>\n      <th></th>\n      <th></th>\n      <th></th>\n      <th></th>\n      <th></th>\n      <th></th>\n      <th></th>\n    </tr>\n  </thead>\n  <tbody>\n    <tr>\n      <th>2019-09-06</th>\n      <td>1838.22</td>\n      <td>1833.51</td>\n      <td>-0.256226</td>\n      <td>-0.393235</td>\n      <td>-1.0</td>\n      <td>0.0</td>\n      <td>1</td>\n      <td>1</td>\n    </tr>\n    <tr>\n      <th>2019-11-29</th>\n      <td>1817.78</td>\n      <td>1800.80</td>\n      <td>-0.934106</td>\n      <td>-0.983452</td>\n      <td>-1.0</td>\n      <td>0.0</td>\n      <td>1</td>\n      <td>1</td>\n    </tr>\n    <tr>\n      <th>2020-01-28</th>\n      <td>1840.50</td>\n      <td>1853.25</td>\n      <td>0.692747</td>\n      <td>1.344125</td>\n      <td>-1.0</td>\n      <td>0.0</td>\n      <td>1</td>\n      <td>1</td>\n    </tr>\n    <tr>\n      <th>2020-05-21</th>\n      <td>2500.00</td>\n      <td>2446.74</td>\n      <td>-2.130400</td>\n      <td>-2.092580</td>\n      <td>-1.0</td>\n      <td>0.0</td>\n      <td>1</td>\n      <td>1</td>\n    </tr>\n    <tr>\n      <th>2020-05-29</th>\n      <td>2415.94</td>\n      <td>2442.37</td>\n      <td>1.093984</td>\n      <td>1.689752</td>\n      <td>-1.0</td>\n      <td>0.0</td>\n      <td>1</td>\n      <td>1</td>\n    </tr>\n    <tr>\n      <th>2020-07-13</th>\n      <td>3251.06</td>\n      <td>3104.00</td>\n      <td>-4.523448</td>\n      <td>-3.092784</td>\n      <td>-1.0</td>\n      <td>0.0</td>\n      <td>1</td>\n      <td>1</td>\n    </tr>\n  </tbody>\n</table>\n</div>"
     },
     "metadata": {},
     "execution_count": 34
    }
   ],
   "source": [
    "df[df['trend_reversal'] == 1]"
   ]
  },
  {
   "cell_type": "code",
   "execution_count": 33,
   "metadata": {},
   "outputs": [
    {
     "output_type": "execute_result",
     "data": {
      "text/plain": "               Open    Close  daily_increase_pct  next_day_change  is_trend  \\\nDate                                                                          \n2020-07-08  3022.61  3081.11            1.935413         2.628598      -1.0   \n2020-07-09  3115.99  3182.63            2.138646         3.189815       1.0   \n2020-07-10  3191.76  3200.00            0.258165         0.542812       1.0   \n2020-07-13  3251.06  3104.00           -4.523448        -3.092784      -1.0   \n2020-07-14  3089.00  3084.00           -0.161865        -0.648508       1.0   \n2020-07-15  3080.23  3008.87           -2.316710        -2.496951       1.0   \n2020-07-16  2971.06  2999.90            0.970697        -0.299010       1.0   \n2020-07-17  3009.00  2961.97           -1.562978        -1.280567       1.0   \n2020-07-20  3000.20  3196.84            6.554230         7.346943      -1.0   \n\n            tr_length  trend_end  trend_reversal  \nDate                                              \n2020-07-08        0.0          0               0  \n2020-07-09        1.0          0               0  \n2020-07-10        2.0          0               0  \n2020-07-13        0.0          1               1  \n2020-07-14        1.0          0               0  \n2020-07-15        2.0          0               0  \n2020-07-16        3.0          0               0  \n2020-07-17        4.0          0               0  \n2020-07-20        0.0          1               0  ",
      "text/html": "<div>\n<style scoped>\n    .dataframe tbody tr th:only-of-type {\n        vertical-align: middle;\n    }\n\n    .dataframe tbody tr th {\n        vertical-align: top;\n    }\n\n    .dataframe thead th {\n        text-align: right;\n    }\n</style>\n<table border=\"1\" class=\"dataframe\">\n  <thead>\n    <tr style=\"text-align: right;\">\n      <th></th>\n      <th>Open</th>\n      <th>Close</th>\n      <th>daily_increase_pct</th>\n      <th>next_day_change</th>\n      <th>is_trend</th>\n      <th>tr_length</th>\n      <th>trend_end</th>\n      <th>trend_reversal</th>\n    </tr>\n    <tr>\n      <th>Date</th>\n      <th></th>\n      <th></th>\n      <th></th>\n      <th></th>\n      <th></th>\n      <th></th>\n      <th></th>\n      <th></th>\n    </tr>\n  </thead>\n  <tbody>\n    <tr>\n      <th>2020-07-08</th>\n      <td>3022.61</td>\n      <td>3081.11</td>\n      <td>1.935413</td>\n      <td>2.628598</td>\n      <td>-1.0</td>\n      <td>0.0</td>\n      <td>0</td>\n      <td>0</td>\n    </tr>\n    <tr>\n      <th>2020-07-09</th>\n      <td>3115.99</td>\n      <td>3182.63</td>\n      <td>2.138646</td>\n      <td>3.189815</td>\n      <td>1.0</td>\n      <td>1.0</td>\n      <td>0</td>\n      <td>0</td>\n    </tr>\n    <tr>\n      <th>2020-07-10</th>\n      <td>3191.76</td>\n      <td>3200.00</td>\n      <td>0.258165</td>\n      <td>0.542812</td>\n      <td>1.0</td>\n      <td>2.0</td>\n      <td>0</td>\n      <td>0</td>\n    </tr>\n    <tr>\n      <th>2020-07-13</th>\n      <td>3251.06</td>\n      <td>3104.00</td>\n      <td>-4.523448</td>\n      <td>-3.092784</td>\n      <td>-1.0</td>\n      <td>0.0</td>\n      <td>1</td>\n      <td>1</td>\n    </tr>\n    <tr>\n      <th>2020-07-14</th>\n      <td>3089.00</td>\n      <td>3084.00</td>\n      <td>-0.161865</td>\n      <td>-0.648508</td>\n      <td>1.0</td>\n      <td>1.0</td>\n      <td>0</td>\n      <td>0</td>\n    </tr>\n    <tr>\n      <th>2020-07-15</th>\n      <td>3080.23</td>\n      <td>3008.87</td>\n      <td>-2.316710</td>\n      <td>-2.496951</td>\n      <td>1.0</td>\n      <td>2.0</td>\n      <td>0</td>\n      <td>0</td>\n    </tr>\n    <tr>\n      <th>2020-07-16</th>\n      <td>2971.06</td>\n      <td>2999.90</td>\n      <td>0.970697</td>\n      <td>-0.299010</td>\n      <td>1.0</td>\n      <td>3.0</td>\n      <td>0</td>\n      <td>0</td>\n    </tr>\n    <tr>\n      <th>2020-07-17</th>\n      <td>3009.00</td>\n      <td>2961.97</td>\n      <td>-1.562978</td>\n      <td>-1.280567</td>\n      <td>1.0</td>\n      <td>4.0</td>\n      <td>0</td>\n      <td>0</td>\n    </tr>\n    <tr>\n      <th>2020-07-20</th>\n      <td>3000.20</td>\n      <td>3196.84</td>\n      <td>6.554230</td>\n      <td>7.346943</td>\n      <td>-1.0</td>\n      <td>0.0</td>\n      <td>1</td>\n      <td>0</td>\n    </tr>\n  </tbody>\n</table>\n</div>"
     },
     "metadata": {},
     "execution_count": 33
    }
   ],
   "source": [
    "df['2020-07-08':'2020-07-20']"
   ]
  },
  {
   "cell_type": "code",
   "execution_count": 21,
   "metadata": {},
   "outputs": [
    {
     "output_type": "execute_result",
     "data": {
      "text/plain": "Index(['2019-08-05', '2019-08-06', '2019-08-07', '2019-08-08', '2019-08-09',\n       '2019-08-12', '2019-08-13', '2019-08-14', '2019-08-15', '2019-08-16',\n       ...\n       '2020-07-21', '2020-07-22', '2020-07-23', '2020-07-24', '2020-07-27',\n       '2020-07-28', '2020-07-29', '2020-07-30', '2020-07-31', '2020-08-03'],\n      dtype='object', name='Date', length=252)"
     },
     "metadata": {},
     "execution_count": 21
    }
   ],
   "source": [
    "df.index"
   ]
  },
  {
   "cell_type": "code",
   "execution_count": null,
   "metadata": {},
   "outputs": [],
   "source": []
  }
 ]
}