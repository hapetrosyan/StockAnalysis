{
 "metadata": {
  "language_info": {
   "codemirror_mode": {
    "name": "ipython",
    "version": 3
   },
   "file_extension": ".py",
   "mimetype": "text/x-python",
   "name": "python",
   "nbconvert_exporter": "python",
   "pygments_lexer": "ipython3",
   "version": "3.8.3-final"
  },
  "orig_nbformat": 2,
  "kernelspec": {
   "name": "python38332bit8b07637a70ff4edea6aa6bcbd1fc18e9",
   "display_name": "Python 3.8.3 32-bit"
  }
 },
 "nbformat": 4,
 "nbformat_minor": 2,
 "cells": [
  {
   "cell_type": "code",
   "execution_count": 58,
   "metadata": {},
   "outputs": [],
   "source": [
    "import yfinance as yf\n",
    "import pandas as pd\n",
    "import matplotlib.pyplot as plt\n",
    "import numpy as np\n",
    "from datetime import datetime\n",
    "from datetime import timedelta"
   ]
  },
  {
   "cell_type": "code",
   "execution_count": 80,
   "metadata": {},
   "outputs": [],
   "source": [
    "# ba_1y = yf.Ticker('BA').history(period='1y')\n",
    "ba_1y = pd.read_csv('../DataFiles/amzn_1y.csv', index_col='Date', parse_dates=True)\n",
    "# data = ba_1y[['Open', 'High', 'Low', 'Close']]\n",
    "df = ba_1y[['Open', 'Close']]"
   ]
  },
  {
   "cell_type": "code",
   "execution_count": 81,
   "metadata": {},
   "outputs": [],
   "source": [
    "df['daily_increase_pct'] = (df['Close'] - df['Open'])/df['Open']*100\n",
    "df['next_day_change'] = (df['Close'] - df['Close'].shift(1))/df['Close'] *100\n",
    "df['is_trend'] = np.sign(df['next_day_change']) * np.sign(df['next_day_change'].shift(1))"
   ]
  },
  {
   "cell_type": "code",
   "execution_count": 82,
   "metadata": {},
   "outputs": [],
   "source": [
    "for i in range(0, len(df)):\n",
    "    df.loc[df.index[i], 'tr_length'] =  df.loc[df.index[i-1], 'tr_length'] + 1 if df.loc[df.index[i], 'is_trend'] == 1 else 0"
   ]
  },
  {
   "cell_type": "code",
   "execution_count": 83,
   "metadata": {},
   "outputs": [],
   "source": [
    "df['trend_end'] = 0\n",
    "df['trend_reversal'] = 0"
   ]
  },
  {
   "cell_type": "code",
   "execution_count": 84,
   "metadata": {
    "tags": []
   },
   "outputs": [],
   "source": [
    "for i in range(0, len(df)):\n",
    "    if df.loc[df.index[i-1], 'tr_length'] > 1 and df.loc[df.index[i], 'tr_length'] == 0:\n",
    "        df.loc[df.index[i], 'trend_end'] = 1"
   ]
  },
  {
   "cell_type": "code",
   "execution_count": 85,
   "metadata": {},
   "outputs": [],
   "source": [
    "for i in range(0, len(df)):\n",
    "    try:\n",
    "        if df.loc[df.index[i], 'trend_end'] == 1 and \\\n",
    "             df.loc[df.index[i+2], 'tr_length'] == 2 and \\\n",
    "                 np.sign(df.loc[df.index[i-1], 'next_day_change']) != np.sign(df.loc[df.index[i+2], 'next_day_change']):\n",
    "            df.loc[df.index[i], 'trend_reversal'] = 1\n",
    "    except:\n",
    "        pass"
   ]
  },
  {
   "cell_type": "code",
   "execution_count": 86,
   "metadata": {},
   "outputs": [
    {
     "output_type": "execute_result",
     "data": {
      "text/plain": "               Open    Close  daily_increase_pct  next_day_change  is_trend  \\\nDate                                                                          \n2019-09-06  1838.22  1833.51           -0.256226        -0.393235      -1.0   \n2019-11-29  1817.78  1800.80           -0.934106        -0.983452      -1.0   \n2020-01-28  1840.50  1853.25            0.692747         1.344125      -1.0   \n2020-05-21  2500.00  2446.74           -2.130400        -2.092580      -1.0   \n2020-05-29  2415.94  2442.37            1.093984         1.689752      -1.0   \n2020-07-13  3251.06  3104.00           -4.523448        -3.092784      -1.0   \n\n            tr_length  trend_end  trend_reversal  \nDate                                              \n2019-09-06        0.0          1               1  \n2019-11-29        0.0          1               1  \n2020-01-28        0.0          1               1  \n2020-05-21        0.0          1               1  \n2020-05-29        0.0          1               1  \n2020-07-13        0.0          1               1  ",
      "text/html": "<div>\n<style scoped>\n    .dataframe tbody tr th:only-of-type {\n        vertical-align: middle;\n    }\n\n    .dataframe tbody tr th {\n        vertical-align: top;\n    }\n\n    .dataframe thead th {\n        text-align: right;\n    }\n</style>\n<table border=\"1\" class=\"dataframe\">\n  <thead>\n    <tr style=\"text-align: right;\">\n      <th></th>\n      <th>Open</th>\n      <th>Close</th>\n      <th>daily_increase_pct</th>\n      <th>next_day_change</th>\n      <th>is_trend</th>\n      <th>tr_length</th>\n      <th>trend_end</th>\n      <th>trend_reversal</th>\n    </tr>\n    <tr>\n      <th>Date</th>\n      <th></th>\n      <th></th>\n      <th></th>\n      <th></th>\n      <th></th>\n      <th></th>\n      <th></th>\n      <th></th>\n    </tr>\n  </thead>\n  <tbody>\n    <tr>\n      <th>2019-09-06</th>\n      <td>1838.22</td>\n      <td>1833.51</td>\n      <td>-0.256226</td>\n      <td>-0.393235</td>\n      <td>-1.0</td>\n      <td>0.0</td>\n      <td>1</td>\n      <td>1</td>\n    </tr>\n    <tr>\n      <th>2019-11-29</th>\n      <td>1817.78</td>\n      <td>1800.80</td>\n      <td>-0.934106</td>\n      <td>-0.983452</td>\n      <td>-1.0</td>\n      <td>0.0</td>\n      <td>1</td>\n      <td>1</td>\n    </tr>\n    <tr>\n      <th>2020-01-28</th>\n      <td>1840.50</td>\n      <td>1853.25</td>\n      <td>0.692747</td>\n      <td>1.344125</td>\n      <td>-1.0</td>\n      <td>0.0</td>\n      <td>1</td>\n      <td>1</td>\n    </tr>\n    <tr>\n      <th>2020-05-21</th>\n      <td>2500.00</td>\n      <td>2446.74</td>\n      <td>-2.130400</td>\n      <td>-2.092580</td>\n      <td>-1.0</td>\n      <td>0.0</td>\n      <td>1</td>\n      <td>1</td>\n    </tr>\n    <tr>\n      <th>2020-05-29</th>\n      <td>2415.94</td>\n      <td>2442.37</td>\n      <td>1.093984</td>\n      <td>1.689752</td>\n      <td>-1.0</td>\n      <td>0.0</td>\n      <td>1</td>\n      <td>1</td>\n    </tr>\n    <tr>\n      <th>2020-07-13</th>\n      <td>3251.06</td>\n      <td>3104.00</td>\n      <td>-4.523448</td>\n      <td>-3.092784</td>\n      <td>-1.0</td>\n      <td>0.0</td>\n      <td>1</td>\n      <td>1</td>\n    </tr>\n  </tbody>\n</table>\n</div>"
     },
     "metadata": {},
     "execution_count": 86
    }
   ],
   "source": [
    "df[df['trend_reversal'] == 1]"
   ]
  },
  {
   "cell_type": "code",
   "execution_count": 95,
   "metadata": {},
   "outputs": [],
   "source": [
    "d_ind = datetime.date(datetime.strptime('2020-05-29', '%Y-%m-%d') )"
   ]
  },
  {
   "cell_type": "code",
   "execution_count": 96,
   "metadata": {},
   "outputs": [
    {
     "output_type": "execute_result",
     "data": {
      "text/plain": "               Open    Close  daily_increase_pct  next_day_change  is_trend  \\\nDate                                                                          \n2020-05-26  2458.00  2421.86           -1.470301        -0.620184       1.0   \n2020-05-27  2404.99  2410.39            0.224533        -0.475857       1.0   \n2020-05-28  2384.33  2401.10            0.703342        -0.386906       1.0   \n2020-05-29  2415.94  2442.37            1.093984         1.689752      -1.0   \n2020-06-01  2448.00  2471.04            0.941176         1.160240       1.0   \n2020-06-02  2467.00  2472.41            0.219295         0.055412       1.0   \n2020-06-03  2468.01  2478.40            0.420987         0.241688       1.0   \n\n            tr_length  trend_end  trend_reversal  \nDate                                              \n2020-05-26        2.0          0               0  \n2020-05-27        3.0          0               0  \n2020-05-28        4.0          0               0  \n2020-05-29        0.0          1               1  \n2020-06-01        1.0          0               0  \n2020-06-02        2.0          0               0  \n2020-06-03        3.0          0               0  ",
      "text/html": "<div>\n<style scoped>\n    .dataframe tbody tr th:only-of-type {\n        vertical-align: middle;\n    }\n\n    .dataframe tbody tr th {\n        vertical-align: top;\n    }\n\n    .dataframe thead th {\n        text-align: right;\n    }\n</style>\n<table border=\"1\" class=\"dataframe\">\n  <thead>\n    <tr style=\"text-align: right;\">\n      <th></th>\n      <th>Open</th>\n      <th>Close</th>\n      <th>daily_increase_pct</th>\n      <th>next_day_change</th>\n      <th>is_trend</th>\n      <th>tr_length</th>\n      <th>trend_end</th>\n      <th>trend_reversal</th>\n    </tr>\n    <tr>\n      <th>Date</th>\n      <th></th>\n      <th></th>\n      <th></th>\n      <th></th>\n      <th></th>\n      <th></th>\n      <th></th>\n      <th></th>\n    </tr>\n  </thead>\n  <tbody>\n    <tr>\n      <th>2020-05-26</th>\n      <td>2458.00</td>\n      <td>2421.86</td>\n      <td>-1.470301</td>\n      <td>-0.620184</td>\n      <td>1.0</td>\n      <td>2.0</td>\n      <td>0</td>\n      <td>0</td>\n    </tr>\n    <tr>\n      <th>2020-05-27</th>\n      <td>2404.99</td>\n      <td>2410.39</td>\n      <td>0.224533</td>\n      <td>-0.475857</td>\n      <td>1.0</td>\n      <td>3.0</td>\n      <td>0</td>\n      <td>0</td>\n    </tr>\n    <tr>\n      <th>2020-05-28</th>\n      <td>2384.33</td>\n      <td>2401.10</td>\n      <td>0.703342</td>\n      <td>-0.386906</td>\n      <td>1.0</td>\n      <td>4.0</td>\n      <td>0</td>\n      <td>0</td>\n    </tr>\n    <tr>\n      <th>2020-05-29</th>\n      <td>2415.94</td>\n      <td>2442.37</td>\n      <td>1.093984</td>\n      <td>1.689752</td>\n      <td>-1.0</td>\n      <td>0.0</td>\n      <td>1</td>\n      <td>1</td>\n    </tr>\n    <tr>\n      <th>2020-06-01</th>\n      <td>2448.00</td>\n      <td>2471.04</td>\n      <td>0.941176</td>\n      <td>1.160240</td>\n      <td>1.0</td>\n      <td>1.0</td>\n      <td>0</td>\n      <td>0</td>\n    </tr>\n    <tr>\n      <th>2020-06-02</th>\n      <td>2467.00</td>\n      <td>2472.41</td>\n      <td>0.219295</td>\n      <td>0.055412</td>\n      <td>1.0</td>\n      <td>2.0</td>\n      <td>0</td>\n      <td>0</td>\n    </tr>\n    <tr>\n      <th>2020-06-03</th>\n      <td>2468.01</td>\n      <td>2478.40</td>\n      <td>0.420987</td>\n      <td>0.241688</td>\n      <td>1.0</td>\n      <td>3.0</td>\n      <td>0</td>\n      <td>0</td>\n    </tr>\n  </tbody>\n</table>\n</div>"
     },
     "metadata": {},
     "execution_count": 96
    }
   ],
   "source": [
    "df[d_ind - timedelta(days=6):d_ind + timedelta(days=5)]"
   ]
  },
  {
   "cell_type": "code",
   "execution_count": null,
   "metadata": {},
   "outputs": [],
   "source": []
  }
 ]
}